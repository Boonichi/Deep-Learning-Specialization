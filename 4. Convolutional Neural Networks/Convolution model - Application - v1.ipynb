{
 "cells": [
  {
   "cell_type": "markdown",
   "metadata": {},
   "source": [
    "# Convolutional Neural Networks: Application\n",
    "\n",
    "Welcome to Course 4's second assignment! In this notebook, you will:\n",
    "\n",
    "- Implement helper functions that you will use when implementing a TensorFlow model\n",
    "- Implement a fully functioning ConvNet using TensorFlow \n",
    "\n",
    "**After this assignment you will be able to:**\n",
    "\n",
    "- Build and train a ConvNet in TensorFlow for a classification problem \n",
    "\n",
    "We assume here that you are already familiar with TensorFlow. If you are not, please refer the *TensorFlow Tutorial* of the third week of Course 2 (\"*Improving deep neural networks*\")."
   ]
  },
  {
   "cell_type": "markdown",
   "metadata": {},
   "source": [
    "## 1.0 - TensorFlow model\n",
    "\n",
    "In the previous assignment, you built helper functions using numpy to understand the mechanics behind convolutional neural networks. Most practical applications of deep learning today are built using programming frameworks, which have many built-in functions you can simply call. \n",
    "\n",
    "As usual, we will start by loading in the packages. "
   ]
  },
  {
   "cell_type": "code",
   "execution_count": 14,
   "metadata": {
    "collapsed": true
   },
   "outputs": [],
   "source": [
    "import math\n",
    "import numpy as np\n",
    "import h5py\n",
    "import matplotlib.pyplot as plt\n",
    "import scipy\n",
    "from PIL import Image\n",
    "from scipy import ndimage\n",
    "import tensorflow as tf\n",
    "from tensorflow.python.framework import ops\n",
    "from cnn_utils import *\n",
    "\n",
    "%matplotlib inline\n",
    "np.random.seed(1)"
   ]
  },
  {
   "cell_type": "markdown",
   "metadata": {},
   "source": [
    "Run the next cell to load the \"SIGNS\" dataset you are going to use."
   ]
  },
  {
   "cell_type": "code",
   "execution_count": 15,
   "metadata": {
    "collapsed": true
   },
   "outputs": [],
   "source": [
    "# Loading the data (signs)\n",
    "X_train_orig, Y_train_orig, X_test_orig, Y_test_orig, classes = load_dataset()"
   ]
  },
  {
   "cell_type": "markdown",
   "metadata": {},
   "source": [
    "As a reminder, the SIGNS dataset is a collection of 6 signs representing numbers from 0 to 5.\n",
    "\n",
    "<img src=\"images/SIGNS.png\" style=\"width:800px;height:300px;\">\n",
    "\n",
    "The next cell will show you an example of a labelled image in the dataset. Feel free to change the value of `index` below and re-run to see different examples. "
   ]
  },
  {
   "cell_type": "code",
   "execution_count": 16,
   "metadata": {},
   "outputs": [
    {
     "output_type": "stream",
     "name": "stdout",
     "text": [
      "y = 2\n"
     ]
    },
    {
     "output_type": "display_data",
     "data": {
      "text/plain": "<Figure size 432x288 with 1 Axes>",
      "image/svg+xml": "<?xml version=\"1.0\" encoding=\"utf-8\" standalone=\"no\"?>\r\n<!DOCTYPE svg PUBLIC \"-//W3C//DTD SVG 1.1//EN\"\r\n  \"http://www.w3.org/Graphics/SVG/1.1/DTD/svg11.dtd\">\r\n<svg height=\"250.618594pt\" version=\"1.1\" viewBox=\"0 0 251.565 250.618594\" width=\"251.565pt\" xmlns=\"http://www.w3.org/2000/svg\" xmlns:xlink=\"http://www.w3.org/1999/xlink\">\r\n <metadata>\r\n  <rdf:RDF xmlns:cc=\"http://creativecommons.org/ns#\" xmlns:dc=\"http://purl.org/dc/elements/1.1/\" xmlns:rdf=\"http://www.w3.org/1999/02/22-rdf-syntax-ns#\">\r\n   <cc:Work>\r\n    <dc:type rdf:resource=\"http://purl.org/dc/dcmitype/StillImage\"/>\r\n    <dc:date>2021-04-26T19:39:46.735840</dc:date>\r\n    <dc:format>image/svg+xml</dc:format>\r\n    <dc:creator>\r\n     <cc:Agent>\r\n      <dc:title>Matplotlib v3.4.1, https://matplotlib.org/</dc:title>\r\n     </cc:Agent>\r\n    </dc:creator>\r\n   </cc:Work>\r\n  </rdf:RDF>\r\n </metadata>\r\n <defs>\r\n  <style type=\"text/css\">*{stroke-linecap:butt;stroke-linejoin:round;}</style>\r\n </defs>\r\n <g id=\"figure_1\">\r\n  <g id=\"patch_1\">\r\n   <path d=\"M 0 250.618594 \r\nL 251.565 250.618594 \r\nL 251.565 0 \r\nL 0 0 \r\nz\r\n\" style=\"fill:none;\"/>\r\n  </g>\r\n  <g id=\"axes_1\">\r\n   <g id=\"patch_2\">\r\n    <path d=\"M 26.925 226.740469 \r\nL 244.365 226.740469 \r\nL 244.365 9.300469 \r\nL 26.925 9.300469 \r\nz\r\n\" style=\"fill:#ffffff;\"/>\r\n   </g>\r\n   <g clip-path=\"url(#pdecf206e04)\">\r\n    <image height=\"218\" id=\"imagea0885df68e\" transform=\"scale(1 -1)translate(0 -218)\" width=\"218\" x=\"26.925\" xlink:href=\"data:image/png;base64,\r\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\" y=\"-8.740469\"/>\r\n   </g>\r\n   <g id=\"matplotlib.axis_1\">\r\n    <g id=\"xtick_1\">\r\n     <g id=\"line2d_1\">\r\n      <defs>\r\n       <path d=\"M 0 0 \r\nL 0 3.5 \r\n\" id=\"m583c9740ee\" style=\"stroke:#000000;stroke-width:0.8;\"/>\r\n      </defs>\r\n      <g>\r\n       <use style=\"stroke:#000000;stroke-width:0.8;\" x=\"28.62375\" xlink:href=\"#m583c9740ee\" y=\"226.740469\"/>\r\n      </g>\r\n     </g>\r\n     <g id=\"text_1\">\r\n      <!-- 0 -->\r\n      <g transform=\"translate(25.4425 241.338906)scale(0.1 -0.1)\">\r\n       <defs>\r\n        <path d=\"M 2034 4250 \r\nQ 1547 4250 1301 3770 \r\nQ 1056 3291 1056 2328 \r\nQ 1056 1369 1301 889 \r\nQ 1547 409 2034 409 \r\nQ 2525 409 2770 889 \r\nQ 3016 1369 3016 2328 \r\nQ 3016 3291 2770 3770 \r\nQ 2525 4250 2034 4250 \r\nz\r\nM 2034 4750 \r\nQ 2819 4750 3233 4129 \r\nQ 3647 3509 3647 2328 \r\nQ 3647 1150 3233 529 \r\nQ 2819 -91 2034 -91 \r\nQ 1250 -91 836 529 \r\nQ 422 1150 422 2328 \r\nQ 422 3509 836 4129 \r\nQ 1250 4750 2034 4750 \r\nz\r\n\" id=\"DejaVuSans-30\" transform=\"scale(0.015625)\"/>\r\n       </defs>\r\n       <use xlink:href=\"#DejaVuSans-30\"/>\r\n      </g>\r\n     </g>\r\n    </g>\r\n    <g id=\"xtick_2\">\r\n     <g id=\"line2d_2\">\r\n      <g>\r\n       <use style=\"stroke:#000000;stroke-width:0.8;\" x=\"62.59875\" xlink:href=\"#m583c9740ee\" y=\"226.740469\"/>\r\n      </g>\r\n     </g>\r\n     <g id=\"text_2\">\r\n      <!-- 10 -->\r\n      <g transform=\"translate(56.23625 241.338906)scale(0.1 -0.1)\">\r\n       <defs>\r\n        <path d=\"M 794 531 \r\nL 1825 531 \r\nL 1825 4091 \r\nL 703 3866 \r\nL 703 4441 \r\nL 1819 4666 \r\nL 2450 4666 \r\nL 2450 531 \r\nL 3481 531 \r\nL 3481 0 \r\nL 794 0 \r\nL 794 531 \r\nz\r\n\" id=\"DejaVuSans-31\" transform=\"scale(0.015625)\"/>\r\n       </defs>\r\n       <use xlink:href=\"#DejaVuSans-31\"/>\r\n       <use x=\"63.623047\" xlink:href=\"#DejaVuSans-30\"/>\r\n      </g>\r\n     </g>\r\n    </g>\r\n    <g id=\"xtick_3\">\r\n     <g id=\"line2d_3\">\r\n      <g>\r\n       <use style=\"stroke:#000000;stroke-width:0.8;\" x=\"96.57375\" xlink:href=\"#m583c9740ee\" y=\"226.740469\"/>\r\n      </g>\r\n     </g>\r\n     <g id=\"text_3\">\r\n      <!-- 20 -->\r\n      <g transform=\"translate(90.21125 241.338906)scale(0.1 -0.1)\">\r\n       <defs>\r\n        <path d=\"M 1228 531 \r\nL 3431 531 \r\nL 3431 0 \r\nL 469 0 \r\nL 469 531 \r\nQ 828 903 1448 1529 \r\nQ 2069 2156 2228 2338 \r\nQ 2531 2678 2651 2914 \r\nQ 2772 3150 2772 3378 \r\nQ 2772 3750 2511 3984 \r\nQ 2250 4219 1831 4219 \r\nQ 1534 4219 1204 4116 \r\nQ 875 4013 500 3803 \r\nL 500 4441 \r\nQ 881 4594 1212 4672 \r\nQ 1544 4750 1819 4750 \r\nQ 2544 4750 2975 4387 \r\nQ 3406 4025 3406 3419 \r\nQ 3406 3131 3298 2873 \r\nQ 3191 2616 2906 2266 \r\nQ 2828 2175 2409 1742 \r\nQ 1991 1309 1228 531 \r\nz\r\n\" id=\"DejaVuSans-32\" transform=\"scale(0.015625)\"/>\r\n       </defs>\r\n       <use xlink:href=\"#DejaVuSans-32\"/>\r\n       <use x=\"63.623047\" xlink:href=\"#DejaVuSans-30\"/>\r\n      </g>\r\n     </g>\r\n    </g>\r\n    <g id=\"xtick_4\">\r\n     <g id=\"line2d_4\">\r\n      <g>\r\n       <use style=\"stroke:#000000;stroke-width:0.8;\" x=\"130.54875\" xlink:href=\"#m583c9740ee\" y=\"226.740469\"/>\r\n      </g>\r\n     </g>\r\n     <g id=\"text_4\">\r\n      <!-- 30 -->\r\n      <g transform=\"translate(124.18625 241.338906)scale(0.1 -0.1)\">\r\n       <defs>\r\n        <path d=\"M 2597 2516 \r\nQ 3050 2419 3304 2112 \r\nQ 3559 1806 3559 1356 \r\nQ 3559 666 3084 287 \r\nQ 2609 -91 1734 -91 \r\nQ 1441 -91 1130 -33 \r\nQ 819 25 488 141 \r\nL 488 750 \r\nQ 750 597 1062 519 \r\nQ 1375 441 1716 441 \r\nQ 2309 441 2620 675 \r\nQ 2931 909 2931 1356 \r\nQ 2931 1769 2642 2001 \r\nQ 2353 2234 1838 2234 \r\nL 1294 2234 \r\nL 1294 2753 \r\nL 1863 2753 \r\nQ 2328 2753 2575 2939 \r\nQ 2822 3125 2822 3475 \r\nQ 2822 3834 2567 4026 \r\nQ 2313 4219 1838 4219 \r\nQ 1578 4219 1281 4162 \r\nQ 984 4106 628 3988 \r\nL 628 4550 \r\nQ 988 4650 1302 4700 \r\nQ 1616 4750 1894 4750 \r\nQ 2613 4750 3031 4423 \r\nQ 3450 4097 3450 3541 \r\nQ 3450 3153 3228 2886 \r\nQ 3006 2619 2597 2516 \r\nz\r\n\" id=\"DejaVuSans-33\" transform=\"scale(0.015625)\"/>\r\n       </defs>\r\n       <use xlink:href=\"#DejaVuSans-33\"/>\r\n       <use x=\"63.623047\" xlink:href=\"#DejaVuSans-30\"/>\r\n      </g>\r\n     </g>\r\n    </g>\r\n    <g id=\"xtick_5\">\r\n     <g id=\"line2d_5\">\r\n      <g>\r\n       <use style=\"stroke:#000000;stroke-width:0.8;\" x=\"164.52375\" xlink:href=\"#m583c9740ee\" y=\"226.740469\"/>\r\n      </g>\r\n     </g>\r\n     <g id=\"text_5\">\r\n      <!-- 40 -->\r\n      <g transform=\"translate(158.16125 241.338906)scale(0.1 -0.1)\">\r\n       <defs>\r\n        <path d=\"M 2419 4116 \r\nL 825 1625 \r\nL 2419 1625 \r\nL 2419 4116 \r\nz\r\nM 2253 4666 \r\nL 3047 4666 \r\nL 3047 1625 \r\nL 3713 1625 \r\nL 3713 1100 \r\nL 3047 1100 \r\nL 3047 0 \r\nL 2419 0 \r\nL 2419 1100 \r\nL 313 1100 \r\nL 313 1709 \r\nL 2253 4666 \r\nz\r\n\" id=\"DejaVuSans-34\" transform=\"scale(0.015625)\"/>\r\n       </defs>\r\n       <use xlink:href=\"#DejaVuSans-34\"/>\r\n       <use x=\"63.623047\" xlink:href=\"#DejaVuSans-30\"/>\r\n      </g>\r\n     </g>\r\n    </g>\r\n    <g id=\"xtick_6\">\r\n     <g id=\"line2d_6\">\r\n      <g>\r\n       <use style=\"stroke:#000000;stroke-width:0.8;\" x=\"198.49875\" xlink:href=\"#m583c9740ee\" y=\"226.740469\"/>\r\n      </g>\r\n     </g>\r\n     <g id=\"text_6\">\r\n      <!-- 50 -->\r\n      <g transform=\"translate(192.13625 241.338906)scale(0.1 -0.1)\">\r\n       <defs>\r\n        <path d=\"M 691 4666 \r\nL 3169 4666 \r\nL 3169 4134 \r\nL 1269 4134 \r\nL 1269 2991 \r\nQ 1406 3038 1543 3061 \r\nQ 1681 3084 1819 3084 \r\nQ 2600 3084 3056 2656 \r\nQ 3513 2228 3513 1497 \r\nQ 3513 744 3044 326 \r\nQ 2575 -91 1722 -91 \r\nQ 1428 -91 1123 -41 \r\nQ 819 9 494 109 \r\nL 494 744 \r\nQ 775 591 1075 516 \r\nQ 1375 441 1709 441 \r\nQ 2250 441 2565 725 \r\nQ 2881 1009 2881 1497 \r\nQ 2881 1984 2565 2268 \r\nQ 2250 2553 1709 2553 \r\nQ 1456 2553 1204 2497 \r\nQ 953 2441 691 2322 \r\nL 691 4666 \r\nz\r\n\" id=\"DejaVuSans-35\" transform=\"scale(0.015625)\"/>\r\n       </defs>\r\n       <use xlink:href=\"#DejaVuSans-35\"/>\r\n       <use x=\"63.623047\" xlink:href=\"#DejaVuSans-30\"/>\r\n      </g>\r\n     </g>\r\n    </g>\r\n    <g id=\"xtick_7\">\r\n     <g id=\"line2d_7\">\r\n      <g>\r\n       <use style=\"stroke:#000000;stroke-width:0.8;\" x=\"232.47375\" xlink:href=\"#m583c9740ee\" y=\"226.740469\"/>\r\n      </g>\r\n     </g>\r\n     <g id=\"text_7\">\r\n      <!-- 60 -->\r\n      <g transform=\"translate(226.11125 241.338906)scale(0.1 -0.1)\">\r\n       <defs>\r\n        <path d=\"M 2113 2584 \r\nQ 1688 2584 1439 2293 \r\nQ 1191 2003 1191 1497 \r\nQ 1191 994 1439 701 \r\nQ 1688 409 2113 409 \r\nQ 2538 409 2786 701 \r\nQ 3034 994 3034 1497 \r\nQ 3034 2003 2786 2293 \r\nQ 2538 2584 2113 2584 \r\nz\r\nM 3366 4563 \r\nL 3366 3988 \r\nQ 3128 4100 2886 4159 \r\nQ 2644 4219 2406 4219 \r\nQ 1781 4219 1451 3797 \r\nQ 1122 3375 1075 2522 \r\nQ 1259 2794 1537 2939 \r\nQ 1816 3084 2150 3084 \r\nQ 2853 3084 3261 2657 \r\nQ 3669 2231 3669 1497 \r\nQ 3669 778 3244 343 \r\nQ 2819 -91 2113 -91 \r\nQ 1303 -91 875 529 \r\nQ 447 1150 447 2328 \r\nQ 447 3434 972 4092 \r\nQ 1497 4750 2381 4750 \r\nQ 2619 4750 2861 4703 \r\nQ 3103 4656 3366 4563 \r\nz\r\n\" id=\"DejaVuSans-36\" transform=\"scale(0.015625)\"/>\r\n       </defs>\r\n       <use xlink:href=\"#DejaVuSans-36\"/>\r\n       <use x=\"63.623047\" xlink:href=\"#DejaVuSans-30\"/>\r\n      </g>\r\n     </g>\r\n    </g>\r\n   </g>\r\n   <g id=\"matplotlib.axis_2\">\r\n    <g id=\"ytick_1\">\r\n     <g id=\"line2d_8\">\r\n      <defs>\r\n       <path d=\"M 0 0 \r\nL -3.5 0 \r\n\" id=\"md7a4efdcca\" style=\"stroke:#000000;stroke-width:0.8;\"/>\r\n      </defs>\r\n      <g>\r\n       <use style=\"stroke:#000000;stroke-width:0.8;\" x=\"26.925\" xlink:href=\"#md7a4efdcca\" y=\"10.999219\"/>\r\n      </g>\r\n     </g>\r\n     <g id=\"text_8\">\r\n      <!-- 0 -->\r\n      <g transform=\"translate(13.5625 14.798437)scale(0.1 -0.1)\">\r\n       <use xlink:href=\"#DejaVuSans-30\"/>\r\n      </g>\r\n     </g>\r\n    </g>\r\n    <g id=\"ytick_2\">\r\n     <g id=\"line2d_9\">\r\n      <g>\r\n       <use style=\"stroke:#000000;stroke-width:0.8;\" x=\"26.925\" xlink:href=\"#md7a4efdcca\" y=\"44.974219\"/>\r\n      </g>\r\n     </g>\r\n     <g id=\"text_9\">\r\n      <!-- 10 -->\r\n      <g transform=\"translate(7.2 48.773437)scale(0.1 -0.1)\">\r\n       <use xlink:href=\"#DejaVuSans-31\"/>\r\n       <use x=\"63.623047\" xlink:href=\"#DejaVuSans-30\"/>\r\n      </g>\r\n     </g>\r\n    </g>\r\n    <g id=\"ytick_3\">\r\n     <g id=\"line2d_10\">\r\n      <g>\r\n       <use style=\"stroke:#000000;stroke-width:0.8;\" x=\"26.925\" xlink:href=\"#md7a4efdcca\" y=\"78.949219\"/>\r\n      </g>\r\n     </g>\r\n     <g id=\"text_10\">\r\n      <!-- 20 -->\r\n      <g transform=\"translate(7.2 82.748437)scale(0.1 -0.1)\">\r\n       <use xlink:href=\"#DejaVuSans-32\"/>\r\n       <use x=\"63.623047\" xlink:href=\"#DejaVuSans-30\"/>\r\n      </g>\r\n     </g>\r\n    </g>\r\n    <g id=\"ytick_4\">\r\n     <g id=\"line2d_11\">\r\n      <g>\r\n       <use style=\"stroke:#000000;stroke-width:0.8;\" x=\"26.925\" xlink:href=\"#md7a4efdcca\" y=\"112.924219\"/>\r\n      </g>\r\n     </g>\r\n     <g id=\"text_11\">\r\n      <!-- 30 -->\r\n      <g transform=\"translate(7.2 116.723437)scale(0.1 -0.1)\">\r\n       <use xlink:href=\"#DejaVuSans-33\"/>\r\n       <use x=\"63.623047\" xlink:href=\"#DejaVuSans-30\"/>\r\n      </g>\r\n     </g>\r\n    </g>\r\n    <g id=\"ytick_5\">\r\n     <g id=\"line2d_12\">\r\n      <g>\r\n       <use style=\"stroke:#000000;stroke-width:0.8;\" x=\"26.925\" xlink:href=\"#md7a4efdcca\" y=\"146.899219\"/>\r\n      </g>\r\n     </g>\r\n     <g id=\"text_12\">\r\n      <!-- 40 -->\r\n      <g transform=\"translate(7.2 150.698437)scale(0.1 -0.1)\">\r\n       <use xlink:href=\"#DejaVuSans-34\"/>\r\n       <use x=\"63.623047\" xlink:href=\"#DejaVuSans-30\"/>\r\n      </g>\r\n     </g>\r\n    </g>\r\n    <g id=\"ytick_6\">\r\n     <g id=\"line2d_13\">\r\n      <g>\r\n       <use style=\"stroke:#000000;stroke-width:0.8;\" x=\"26.925\" xlink:href=\"#md7a4efdcca\" y=\"180.874219\"/>\r\n      </g>\r\n     </g>\r\n     <g id=\"text_13\">\r\n      <!-- 50 -->\r\n      <g transform=\"translate(7.2 184.673437)scale(0.1 -0.1)\">\r\n       <use xlink:href=\"#DejaVuSans-35\"/>\r\n       <use x=\"63.623047\" xlink:href=\"#DejaVuSans-30\"/>\r\n      </g>\r\n     </g>\r\n    </g>\r\n    <g id=\"ytick_7\">\r\n     <g id=\"line2d_14\">\r\n      <g>\r\n       <use style=\"stroke:#000000;stroke-width:0.8;\" x=\"26.925\" xlink:href=\"#md7a4efdcca\" y=\"214.849219\"/>\r\n      </g>\r\n     </g>\r\n     <g id=\"text_14\">\r\n      <!-- 60 -->\r\n      <g transform=\"translate(7.2 218.648437)scale(0.1 -0.1)\">\r\n       <use xlink:href=\"#DejaVuSans-36\"/>\r\n       <use x=\"63.623047\" xlink:href=\"#DejaVuSans-30\"/>\r\n      </g>\r\n     </g>\r\n    </g>\r\n   </g>\r\n   <g id=\"patch_3\">\r\n    <path d=\"M 26.925 226.740469 \r\nL 26.925 9.300469 \r\n\" style=\"fill:none;stroke:#000000;stroke-linecap:square;stroke-linejoin:miter;stroke-width:0.8;\"/>\r\n   </g>\r\n   <g id=\"patch_4\">\r\n    <path d=\"M 244.365 226.740469 \r\nL 244.365 9.300469 \r\n\" style=\"fill:none;stroke:#000000;stroke-linecap:square;stroke-linejoin:miter;stroke-width:0.8;\"/>\r\n   </g>\r\n   <g id=\"patch_5\">\r\n    <path d=\"M 26.925 226.740469 \r\nL 244.365 226.740469 \r\n\" style=\"fill:none;stroke:#000000;stroke-linecap:square;stroke-linejoin:miter;stroke-width:0.8;\"/>\r\n   </g>\r\n   <g id=\"patch_6\">\r\n    <path d=\"M 26.925 9.300469 \r\nL 244.365 9.300469 \r\n\" style=\"fill:none;stroke:#000000;stroke-linecap:square;stroke-linejoin:miter;stroke-width:0.8;\"/>\r\n   </g>\r\n  </g>\r\n </g>\r\n <defs>\r\n  <clipPath id=\"pdecf206e04\">\r\n   <rect height=\"217.44\" width=\"217.44\" x=\"26.925\" y=\"9.300469\"/>\r\n  </clipPath>\r\n </defs>\r\n</svg>\r\n",
      "image/png": "[encoded data removed]"
     },
     "metadata": {
      "needs_background": "light"
     }
    }
   ],
   "source": [
    "# Example of a picture\n",
    "index = 6\n",
    "plt.imshow(X_train_orig[index])\n",
    "print (\"y = \" + str(np.squeeze(Y_train_orig[:, index])))"
   ]
  },
  {
   "cell_type": "markdown",
   "metadata": {},
   "source": [
    "In Course 2, you had built a fully-connected network for this dataset. But since this is an image dataset, it is more natural to apply a ConvNet to it.\n",
    "\n",
    "To get started, let's examine the shapes of your data. "
   ]
  },
  {
   "cell_type": "code",
   "execution_count": 17,
   "metadata": {},
   "outputs": [
    {
     "output_type": "stream",
     "name": "stdout",
     "text": [
      "number of training examples = 1080\nnumber of test examples = 120\nX_train shape: (1080, 64, 64, 3)\nY_train shape: (1080, 6)\nX_test shape: (120, 64, 64, 3)\nY_test shape: (120, 6)\n"
     ]
    }
   ],
   "source": [
    "X_train = X_train_orig/255.\n",
    "X_test = X_test_orig/255.\n",
    "Y_train = convert_to_one_hot(Y_train_orig, 6).T\n",
    "Y_test = convert_to_one_hot(Y_test_orig, 6).T\n",
    "print (\"number of training examples = \" + str(X_train.shape[0]))\n",
    "print (\"number of test examples = \" + str(X_test.shape[0]))\n",
    "print (\"X_train shape: \" + str(X_train.shape))\n",
    "print (\"Y_train shape: \" + str(Y_train.shape))\n",
    "print (\"X_test shape: \" + str(X_test.shape))\n",
    "print (\"Y_test shape: \" + str(Y_test.shape))\n",
    "conv_layers = {}"
   ]
  },
  {
   "cell_type": "markdown",
   "metadata": {
    "collapsed": true
   },
   "source": [
    "### 1.1 - Create placeholders\n",
    "\n",
    "TensorFlow requires that you create placeholders for the input data that will be fed into the model when running the session.\n",
    "\n",
    "**Exercise**: Implement the function below to create placeholders for the input image X and the output Y. You should not define the number of training examples for the moment. To do so, you could use \"None\" as the batch size, it will give you the flexibility to choose it later. Hence X should be of dimension **[None, n_H0, n_W0, n_C0]** and Y should be of dimension **[None, n_y]**.  [Hint](https://www.tensorflow.org/api_docs/python/tf/placeholder)."
   ]
  },
  {
   "cell_type": "code",
   "execution_count": 18,
   "metadata": {
    "collapsed": true
   },
   "outputs": [],
   "source": [
    "# GRADED FUNCTION: create_placeholders\n",
    "\n",
    "def create_placeholders(n_H0, n_W0, n_C0, n_y):\n",
    "    \"\"\"\n",
    "    Creates the placeholders for the tensorflow session.\n",
    "    \n",
    "    Arguments:\n",
    "    n_H0 -- scalar, height of an input image\n",
    "    n_W0 -- scalar, width of an input image\n",
    "    n_C0 -- scalar, number of channels of the input\n",
    "    n_y -- scalar, number of classes\n",
    "        \n",
    "    Returns:\n",
    "    X -- placeholder for the data input, of shape [None, n_H0, n_W0, n_C0] and dtype \"float\"\n",
    "    Y -- placeholder for the input labels, of shape [None, n_y] and dtype \"float\"\n",
    "    \"\"\"\n",
    "\n",
    "    ### START CODE HERE ### (≈2 lines)\n",
    "    X = tf.placeholder(dtype = tf.float32,shape = (None,n_H0,n_W0,n_C0))\n",
    "    Y = tf.placeholder(dtype = tf.float32,shape = (None,n_y))\n",
    "    ### END CODE HERE ###\n",
    "    \n",
    "    return X, Y"
   ]
  },
  {
   "cell_type": "code",
   "execution_count": 19,
   "metadata": {},
   "outputs": [
    {
     "output_type": "stream",
     "name": "stdout",
     "text": [
      "X = Tensor(\"Placeholder_2:0\", shape=(?, 64, 64, 3), dtype=float32)\nY = Tensor(\"Placeholder_3:0\", shape=(?, 6), dtype=float32)\n"
     ]
    }
   ],
   "source": [
    "X, Y = create_placeholders(64, 64, 3, 6)\n",
    "print (\"X = \" + str(X))\n",
    "print (\"Y = \" + str(Y))"
   ]
  },
  {
   "cell_type": "markdown",
   "metadata": {},
   "source": [
    "**Expected Output**\n",
    "\n",
    "<table> \n",
    "<tr>\n",
    "<td>\n",
    "    X = Tensor(\"Placeholder:0\", shape=(?, 64, 64, 3), dtype=float32)\n",
    "\n",
    "</td>\n",
    "</tr>\n",
    "<tr>\n",
    "<td>\n",
    "    Y = Tensor(\"Placeholder_1:0\", shape=(?, 6), dtype=float32)\n",
    "\n",
    "</td>\n",
    "</tr>\n",
    "</table>"
   ]
  },
  {
   "cell_type": "markdown",
   "metadata": {},
   "source": [
    "### 1.2 - Initialize parameters\n",
    "\n",
    "You will initialize weights/filters $W1$ and $W2$ using `tf.contrib.layers.xavier_initializer(seed = 0)`. You don't need to worry about bias variables as you will soon see that TensorFlow functions take care of the bias. Note also that you will only initialize the weights/filters for the conv2d functions. TensorFlow initializes the layers for the fully connected part automatically. We will talk more about that later in this assignment.\n",
    "\n",
    "**Exercise:** Implement initialize_parameters(). The dimensions for each group of filters are provided below. Reminder - to initialize a parameter $W$ of shape [1,2,3,4] in Tensorflow, use:\n",
    "```python\n",
    "W = tf.get_variable(\"W\", [1,2,3,4], initializer = ...)\n",
    "```\n",
    "[More Info](https://www.tensorflow.org/api_docs/python/tf/get_variable)."
   ]
  },
  {
   "cell_type": "code",
   "execution_count": 20,
   "metadata": {
    "collapsed": true
   },
   "outputs": [],
   "source": [
    "# GRADED FUNCTION: initialize_parameters\n",
    "\n",
    "def initialize_parameters():\n",
    "    \"\"\"\n",
    "    Initializes weight parameters to build a neural network with tensorflow. The shapes are:\n",
    "                        W1 : [4, 4, 3, 8]\n",
    "                        W2 : [2, 2, 8, 16]\n",
    "    Returns:\n",
    "    parameters -- a dictionary of tensors containing W1, W2\n",
    "    \"\"\"\n",
    "    \n",
    "    tf.set_random_seed(1)                              # so that your \"random\" numbers match ours\n",
    "        \n",
    "    ### START CODE HERE ### (approx. 2 lines of code)\n",
    "    W1 = tf.get_variable(\"W1\",[4, 4, 3, 8],initializer=tf.contrib.layers.xavier_initializer(seed=0))\n",
    "    W2 = tf.get_variable(\"W2\",[2, 2, 8, 16],initializer=tf.contrib.layers.xavier_initializer(seed=0))\n",
    "    ### END CODE HERE ###\n",
    "\n",
    "    parameters = {\"W1\": W1,\n",
    "                  \"W2\": W2}\n",
    "    \n",
    "    return parameters"
   ]
  },
  {
   "cell_type": "code",
   "execution_count": 21,
   "metadata": {},
   "outputs": [
    {
     "output_type": "stream",
     "name": "stdout",
     "text": [
      "W1 = [ 0.00131723  0.1417614  -0.04434952  0.09197326  0.14984085 -0.03514394\n -0.06847463  0.05245192]\nW2 = [-0.08566415  0.17750949  0.11974221  0.16773748 -0.0830943  -0.08058\n -0.00577033 -0.14643836  0.24162132 -0.05857408 -0.19055021  0.1345228\n -0.22779644 -0.1601823  -0.16117483 -0.10286498]\n"
     ]
    }
   ],
   "source": [
    "tf.reset_default_graph()\n",
    "with tf.Session() as sess_test:\n",
    "    parameters = initialize_parameters()\n",
    "    init = tf.global_variables_initializer()\n",
    "    sess_test.run(init)\n",
    "    print(\"W1 = \" + str(parameters[\"W1\"].eval()[1,1,1]))\n",
    "    #print(\"W1 = \" + str(parameters[\"W1\"].eval()[1,1,1,:])) #8 elementos pq shape=[4, 4, 3, 8]\n",
    "    print(\"W2 = \" + str(parameters[\"W2\"].eval()[1,1,1])) #16 elementos pq shape=[2, 2, 8, 16]"
   ]
  },
  {
   "cell_type": "markdown",
   "metadata": {},
   "source": [
    "** Expected Output:**\n",
    "\n",
    "<table> \n",
    "\n",
    "    <tr>\n",
    "        <td>\n",
    "        W1 = \n",
    "        </td>\n",
    "        <td>\n",
    "[ 0.00131723  0.14176141 -0.04434952  0.09197326  0.14984085 -0.03514394 <br>\n",
    " -0.06847463  0.05245192]\n",
    "        </td>\n",
    "    </tr>\n",
    "\n",
    "    <tr>\n",
    "        <td>\n",
    "        W2 = \n",
    "        </td>\n",
    "        <td>\n",
    "[-0.08566415  0.17750949  0.11974221  0.16773748 -0.0830943  -0.08058 <br>\n",
    " -0.00577033 -0.14643836  0.24162132 -0.05857408 -0.19055021  0.1345228 <br>\n",
    " -0.22779644 -0.1601823  -0.16117483 -0.10286498]\n",
    "        </td>\n",
    "    </tr>\n",
    "\n",
    "</table>"
   ]
  },
  {
   "cell_type": "markdown",
   "metadata": {},
   "source": [
    "### 1.2 - Forward propagation\n",
    "\n",
    "In TensorFlow, there are built-in functions that carry out the convolution steps for you.\n",
    "\n",
    "- **tf.nn.conv2d(X,W1, strides = [1,s,s,1], padding = 'SAME'):** given an input $X$ and a group of filters $W1$, this function convolves $W1$'s filters on X. The third input ([1,f,f,1]) represents the strides for each dimension of the input (m, n_H_prev, n_W_prev, n_C_prev). You can read the full documentation [here](https://www.tensorflow.org/api_docs/python/tf/nn/conv2d)\n",
    "\n",
    "- **tf.nn.max_pool(A, ksize = [1,f,f,1], strides = [1,s,s,1], padding = 'SAME'):** given an input A, this function uses a window of size (f, f) and strides of size (s, s) to carry out max pooling over each window. You can read the full documentation [here](https://www.tensorflow.org/api_docs/python/tf/nn/max_pool)\n",
    "\n",
    "- **tf.nn.relu(Z1):** computes the elementwise ReLU of Z1 (which can be any shape). You can read the full documentation [here.](https://www.tensorflow.org/api_docs/python/tf/nn/relu)\n",
    "\n",
    "- **tf.contrib.layers.flatten(P)**: given an input P, this function flattens each example into a 1D vector it while maintaining the batch-size. It returns a flattened tensor with shape [batch_size, k]. You can read the full documentation [here.](https://www.tensorflow.org/api_docs/python/tf/contrib/layers/flatten)\n",
    "\n",
    "- **tf.contrib.layers.fully_connected(F, num_outputs):** given a the flattened input F, it returns the output computed using a fully connected layer. You can read the full documentation [here.](https://www.tensorflow.org/api_docs/python/tf/contrib/layers/fully_connected)\n",
    "\n",
    "In the last function above (`tf.contrib.layers.fully_connected`), the fully connected layer automatically initializes weights in the graph and keeps on training them as you train the model. Hence, you did not need to initialize those weights when initializing the parameters. \n",
    "\n",
    "\n",
    "**Exercise**: \n",
    "\n",
    "Implement the `forward_propagation` function below to build the following model: `CONV2D -> RELU -> MAXPOOL -> CONV2D -> RELU -> MAXPOOL -> FLATTEN -> FULLYCONNECTED`. You should use the functions above. \n",
    "\n",
    "In detail, we will use the following parameters for all the steps:\n",
    "     - Conv2D: stride 1, padding is \"SAME\"\n",
    "     - ReLU\n",
    "     - Max pool: Use an 8 by 8 filter size and an 8 by 8 stride, padding is \"SAME\"\n",
    "     - Conv2D: stride 1, padding is \"SAME\"\n",
    "     - ReLU\n",
    "     - Max pool: Use a 4 by 4 filter size and a 4 by 4 stride, padding is \"SAME\"\n",
    "     - Flatten the previous output.\n",
    "     - FULLYCONNECTED (FC) layer: Apply a fully connected layer without an non-linear activation function. Do not call the softmax here. This will result in 6 neurons in the output layer, which then get passed later to a softmax. In TensorFlow, the softmax and cost function are lumped together into a single function, which you'll call in a different function when computing the cost. "
   ]
  },
  {
   "cell_type": "code",
   "execution_count": 22,
   "metadata": {
    "collapsed": true
   },
   "outputs": [],
   "source": [
    "# GRADED FUNCTION: forward_propagation\n",
    "\n",
    "def forward_propagation(X, parameters):\n",
    "    \"\"\"\n",
    "    Implements the forward propagation for the model:\n",
    "    CONV2D -> RELU -> MAXPOOL -> CONV2D -> RELU -> MAXPOOL -> FLATTEN -> FULLYCONNECTED\n",
    "    \n",
    "    Arguments:\n",
    "    X -- input dataset placeholder, of shape (input size, number of examples)\n",
    "    parameters -- python dictionary containing your parameters \"W1\", \"W2\"\n",
    "                  the shapes are given in initialize_parameters\n",
    "\n",
    "    Returns:\n",
    "    Z3 -- the output of the last LINEAR unit\n",
    "    \"\"\"\n",
    "    # Retrieve the parameters from the dictionary \"parameters\" \n",
    "    W1 = parameters['W1']\n",
    "    W2 = parameters['W2']\n",
    "    \n",
    "    ### START CODE HERE ###\n",
    "    # CONV2D: stride of 1, padding 'SAME'\n",
    "    Z1 = tf.nn.conv2d(X,W1,strides=[1,1,1,1],padding=\"SAME\")\n",
    "    # RELU\n",
    "    A1 = tf.nn.relu(Z1)\n",
    "    # MAXPOOL: window 8x8, stride 8, padding 'SAME'\n",
    "    P1 = tf.nn.max_pool(A1,ksize=[1,8,8,1],strides=[1,8,8,1],padding=\"SAME\")\n",
    "    # CONV2D: filters W2, stride 1, padding 'SAME'\n",
    "    Z2 = tf.nn.conv2d(P1,W2,strides=[1,1,1,1],padding=\"SAME\")\n",
    "    # RELU\n",
    "    A2 = tf.nn.relu(Z2)\n",
    "    # MAXPOOL: window 4x4, stride 4, padding 'SAME'\n",
    "    P2 = tf.nn.max_pool(A2,ksize=[1,4,4,1],strides=[1,4,4,1],padding=\"SAME\")\n",
    "    # FLATTEN\n",
    "    F = tf.contrib.layers.flatten(P2)\n",
    "    # FULLY-CONNECTED without non-linear activation function (not not call softmax).\n",
    "    # 6 neurons in output layer. Hint: one of the arguments should be \"activation_fn=None\" \n",
    "    Z3 = tf.contrib.layers.fully_connected(F,activation_fn=None,num_outputs=6)\n",
    "    ### END CODE HERE ###\n",
    "    return Z3"
   ]
  },
  {
   "cell_type": "code",
   "execution_count": 23,
   "metadata": {},
   "outputs": [
    {
     "output_type": "stream",
     "name": "stdout",
     "text": [
      "Z3 = [[ 1.4416984  -0.24909666  5.450499   -0.2618962  -0.20669907  1.3654671 ]\n [ 1.4070846  -0.02573211  5.08928    -0.48669922 -0.40940708  1.2624859 ]]\n"
     ]
    }
   ],
   "source": [
    "tf.reset_default_graph()\n",
    "\n",
    "with tf.Session() as sess:\n",
    "    np.random.seed(1)\n",
    "    X, Y = create_placeholders(64, 64, 3, 6)\n",
    "    parameters = initialize_parameters()\n",
    "    Z3 = forward_propagation(X, parameters)\n",
    "    init = tf.global_variables_initializer()\n",
    "    sess.run(init)\n",
    "    a = sess.run(Z3, {X: np.random.randn(2,64,64,3), Y: np.random.randn(2,6)})\n",
    "    print(\"Z3 = \" + str(a))"
   ]
  },
  {
   "cell_type": "markdown",
   "metadata": {},
   "source": [
    "**Expected Output**:\n",
    "\n",
    "<table> \n",
    "    <td> \n",
    "    Z3 =\n",
    "    </td>\n",
    "    <td>\n",
    "    [[-0.44670227 -1.57208765 -1.53049231 -2.31013036 -1.29104376  0.46852064] <br>\n",
    " [-0.17601591 -1.57972014 -1.4737016  -2.61672091 -1.00810647  0.5747785 ]]\n",
    "    </td>\n",
    "</table>"
   ]
  },
  {
   "cell_type": "markdown",
   "metadata": {},
   "source": [
    "### 1.3 - Compute cost\n",
    "\n",
    "Implement the compute cost function below. You might find these two functions helpful: \n",
    "\n",
    "- **tf.nn.softmax_cross_entropy_with_logits(logits = Z3, labels = Y):** computes the softmax entropy loss. This function both computes the softmax activation function as well as the resulting loss. You can check the full documentation  [here.](https://www.tensorflow.org/api_docs/python/tf/nn/softmax_cross_entropy_with_logits)\n",
    "- **tf.reduce_mean:** computes the mean of elements across dimensions of a tensor. Use this to sum the losses over all the examples to get the overall cost. You can check the full documentation [here.](https://www.tensorflow.org/api_docs/python/tf/reduce_mean)\n",
    "\n",
    "** Exercise**: Compute the cost below using the function above."
   ]
  },
  {
   "cell_type": "code",
   "execution_count": 24,
   "metadata": {
    "collapsed": true
   },
   "outputs": [],
   "source": [
    "# GRADED FUNCTION: compute_cost \n",
    "\n",
    "def compute_cost(Z3, Y):\n",
    "    \"\"\"\n",
    "    Computes the cost\n",
    "    \n",
    "    Arguments:\n",
    "    Z3 -- output of forward propagation (output of the last LINEAR unit), of shape (6, number of examples)\n",
    "    Y -- \"true\" labels vector placeholder, same shape as Z3\n",
    "    \n",
    "    Returns:\n",
    "    cost - Tensor of the cost function\n",
    "    \"\"\"\n",
    "    \n",
    "    ### START CODE HERE ### (1 line of code)\n",
    "\n",
    "    ### END CODE HERE ###\n",
    "    \n",
    "    return cost"
   ]
  },
  {
   "cell_type": "code",
   "execution_count": 25,
   "metadata": {},
   "outputs": [
    {
     "output_type": "error",
     "ename": "NameError",
     "evalue": "name 'cost' is not defined",
     "traceback": [
      "\u001b[1;31m---------------------------------------------------------------------------\u001b[0m",
      "\u001b[1;31mNameError\u001b[0m                                 Traceback (most recent call last)",
      "\u001b[1;32m<ipython-input-25-2f69ae4339ec>\u001b[0m in \u001b[0;36m<module>\u001b[1;34m\u001b[0m\n\u001b[0;32m      6\u001b[0m     \u001b[0mparameters\u001b[0m \u001b[1;33m=\u001b[0m \u001b[0minitialize_parameters\u001b[0m\u001b[1;33m(\u001b[0m\u001b[1;33m)\u001b[0m\u001b[1;33m\u001b[0m\u001b[1;33m\u001b[0m\u001b[0m\n\u001b[0;32m      7\u001b[0m     \u001b[0mZ3\u001b[0m \u001b[1;33m=\u001b[0m \u001b[0mforward_propagation\u001b[0m\u001b[1;33m(\u001b[0m\u001b[0mX\u001b[0m\u001b[1;33m,\u001b[0m \u001b[0mparameters\u001b[0m\u001b[1;33m)\u001b[0m\u001b[1;33m\u001b[0m\u001b[1;33m\u001b[0m\u001b[0m\n\u001b[1;32m----> 8\u001b[1;33m     \u001b[0mcost\u001b[0m \u001b[1;33m=\u001b[0m \u001b[0mcompute_cost\u001b[0m\u001b[1;33m(\u001b[0m\u001b[0mZ3\u001b[0m\u001b[1;33m,\u001b[0m \u001b[0mY\u001b[0m\u001b[1;33m)\u001b[0m\u001b[1;33m\u001b[0m\u001b[1;33m\u001b[0m\u001b[0m\n\u001b[0m\u001b[0;32m      9\u001b[0m     \u001b[0minit\u001b[0m \u001b[1;33m=\u001b[0m \u001b[0mtf\u001b[0m\u001b[1;33m.\u001b[0m\u001b[0mglobal_variables_initializer\u001b[0m\u001b[1;33m(\u001b[0m\u001b[1;33m)\u001b[0m\u001b[1;33m\u001b[0m\u001b[1;33m\u001b[0m\u001b[0m\n\u001b[0;32m     10\u001b[0m     \u001b[0msess\u001b[0m\u001b[1;33m.\u001b[0m\u001b[0mrun\u001b[0m\u001b[1;33m(\u001b[0m\u001b[0minit\u001b[0m\u001b[1;33m)\u001b[0m\u001b[1;33m\u001b[0m\u001b[1;33m\u001b[0m\u001b[0m\n",
      "\u001b[1;32m<ipython-input-24-278160898cbe>\u001b[0m in \u001b[0;36mcompute_cost\u001b[1;34m(Z3, Y)\u001b[0m\n\u001b[0;32m     17\u001b[0m     \u001b[1;31m### END CODE HERE ###\u001b[0m\u001b[1;33m\u001b[0m\u001b[1;33m\u001b[0m\u001b[1;33m\u001b[0m\u001b[0m\n\u001b[0;32m     18\u001b[0m \u001b[1;33m\u001b[0m\u001b[0m\n\u001b[1;32m---> 19\u001b[1;33m     \u001b[1;32mreturn\u001b[0m \u001b[0mcost\u001b[0m\u001b[1;33m\u001b[0m\u001b[1;33m\u001b[0m\u001b[0m\n\u001b[0m",
      "\u001b[1;31mNameError\u001b[0m: name 'cost' is not defined"
     ]
    }
   ],
   "source": [
    "tf.reset_default_graph()\n",
    "\n",
    "with tf.Session() as sess:\n",
    "    np.random.seed(1)\n",
    "    X, Y = create_placeholders(64, 64, 3, 6)\n",
    "    parameters = initialize_parameters()\n",
    "    Z3 = forward_propagation(X, parameters)\n",
    "    cost = compute_cost(Z3, Y)\n",
    "    init = tf.global_variables_initializer()\n",
    "    sess.run(init)\n",
    "    a = sess.run(cost, {X: np.random.randn(4,64,64,3), Y: np.random.randn(4,6)})\n",
    "    print(\"cost = \" + str(a))"
   ]
  },
  {
   "cell_type": "markdown",
   "metadata": {},
   "source": [
    "**Expected Output**: \n",
    "\n",
    "<table>\n",
    "    <td> \n",
    "    cost =\n",
    "    </td> \n",
    "    \n",
    "    <td> \n",
    "    2.91034\n",
    "    </td> \n",
    "</table>"
   ]
  },
  {
   "cell_type": "markdown",
   "metadata": {},
   "source": [
    "## 1.4 Model \n",
    "\n",
    "Finally you will merge the helper functions you implemented above to build a model. You will train it on the SIGNS dataset. \n",
    "\n",
    "You have implemented `random_mini_batches()` in the Optimization programming assignment of course 2. Remember that this function returns a list of mini-batches. \n",
    "\n",
    "**Exercise**: Complete the function below. \n",
    "\n",
    "The model below should:\n",
    "\n",
    "- create placeholders\n",
    "- initialize parameters\n",
    "- forward propagate\n",
    "- compute the cost\n",
    "- create an optimizer\n",
    "\n",
    "Finally you will create a session and run a for loop  for num_epochs, get the mini-batches, and then for each mini-batch you will optimize the function. [Hint for initializing the variables](https://www.tensorflow.org/api_docs/python/tf/global_variables_initializer)"
   ]
  },
  {
   "cell_type": "code",
   "execution_count": 15,
   "metadata": {
    "collapsed": true
   },
   "outputs": [],
   "source": [
    "# GRADED FUNCTION: model\n",
    "\n",
    "def model(X_train, Y_train, X_test, Y_test, learning_rate = 0.009,\n",
    "          num_epochs = 100, minibatch_size = 64, print_cost = True):\n",
    "    \"\"\"\n",
    "    Implements a three-layer ConvNet in Tensorflow:\n",
    "    CONV2D -> RELU -> MAXPOOL -> CONV2D -> RELU -> MAXPOOL -> FLATTEN -> FULLYCONNECTED\n",
    "    \n",
    "    Arguments:\n",
    "    X_train -- training set, of shape (None, 64, 64, 3)\n",
    "    Y_train -- test set, of shape (None, n_y = 6)\n",
    "    X_test -- training set, of shape (None, 64, 64, 3)\n",
    "    Y_test -- test set, of shape (None, n_y = 6)\n",
    "    learning_rate -- learning rate of the optimization\n",
    "    num_epochs -- number of epochs of the optimization loop\n",
    "    minibatch_size -- size of a minibatch\n",
    "    print_cost -- True to print the cost every 100 epochs\n",
    "    \n",
    "    Returns:\n",
    "    train_accuracy -- real number, accuracy on the train set (X_train)\n",
    "    test_accuracy -- real number, testing accuracy on the test set (X_test)\n",
    "    parameters -- parameters learnt by the model. They can then be used to predict.\n",
    "    \"\"\"\n",
    "    \n",
    "    ops.reset_default_graph()                         # to be able to rerun the model without overwriting tf variables\n",
    "    tf.set_random_seed(1)                             # to keep results consistent (tensorflow seed)\n",
    "    seed = 3                                          # to keep results consistent (numpy seed)\n",
    "    (m, n_H0, n_W0, n_C0) = X_train.shape             \n",
    "    n_y = Y_train.shape[1]                            \n",
    "    costs = []                                        # To keep track of the cost\n",
    "    \n",
    "    # Create Placeholders of the correct shape\n",
    "    ### START CODE HERE ### (1 line)\n",
    "\n",
    "    ### END CODE HERE ###\n",
    "\n",
    "    # Initialize parameters\n",
    "    ### START CODE HERE ### (1 line)\n",
    "\n",
    "    ### END CODE HERE ###\n",
    "    \n",
    "    # Forward propagation: Build the forward propagation in the tensorflow graph\n",
    "    ### START CODE HERE ### (1 line)\n",
    "\n",
    "    ### END CODE HERE ###\n",
    "    \n",
    "    # Cost function: Add cost function to tensorflow graph\n",
    "    ### START CODE HERE ### (1 line)\n",
    "\n",
    "    ### END CODE HERE ###\n",
    "    \n",
    "    # Backpropagation: Define the tensorflow optimizer. Use an AdamOptimizer that minimizes the cost.\n",
    "    ### START CODE HERE ### (1 line)\n",
    "\n",
    "    ### END CODE HERE ###\n",
    "    \n",
    "    # Initialize all the variables globally\n",
    "    init = tf.global_variables_initializer()\n",
    "     \n",
    "    # Start the session to compute the tensorflow graph\n",
    "    with tf.Session() as sess:\n",
    "        \n",
    "        # Run the initialization\n",
    "        sess.run(init)\n",
    "        \n",
    "        # Do the training loop\n",
    "        for epoch in range(num_epochs):\n",
    "\n",
    "            minibatch_cost = 0.\n",
    "            num_minibatches = int(m / minibatch_size) # number of minibatches of size minibatch_size in the train set\n",
    "            seed = seed + 1\n",
    "            minibatches = random_mini_batches(X_train, Y_train, minibatch_size, seed)\n",
    "\n",
    "            for minibatch in minibatches:\n",
    "\n",
    "                # Select a minibatch\n",
    "                (minibatch_X, minibatch_Y) = minibatch\n",
    "                # IMPORTANT: The line that runs the graph on a minibatch.\n",
    "                # Run the session to execute the optimizer and the cost, the feedict should contain a minibatch for (X,Y).\n",
    "                ### START CODE HERE ### (1 line)\n",
    "         \n",
    "                ### END CODE HERE ###\n",
    "                \n",
    "                minibatch_cost += temp_cost / num_minibatches\n",
    "                \n",
    "\n",
    "            # Print the cost every epoch\n",
    "            if print_cost == True and epoch % 5 == 0:\n",
    "                print (\"Cost after epoch %i: %f\" % (epoch, minibatch_cost))\n",
    "            if print_cost == True and epoch % 1 == 0:\n",
    "                costs.append(minibatch_cost)\n",
    "        \n",
    "        \n",
    "        # plot the cost\n",
    "        plt.plot(np.squeeze(costs))\n",
    "        plt.ylabel('cost')\n",
    "        plt.xlabel('iterations (per tens)')\n",
    "        plt.title(\"Learning rate =\" + str(learning_rate))\n",
    "        plt.show()\n",
    "\n",
    "        # Calculate the correct predictions\n",
    "        predict_op = tf.argmax(Z3, 1)\n",
    "        correct_prediction = tf.equal(predict_op, tf.argmax(Y, 1))\n",
    "        \n",
    "        # Calculate accuracy on the test set\n",
    "        accuracy = tf.reduce_mean(tf.cast(correct_prediction, \"float\"))\n",
    "        print(accuracy)\n",
    "        train_accuracy = accuracy.eval({X: X_train, Y: Y_train})\n",
    "        test_accuracy = accuracy.eval({X: X_test, Y: Y_test})\n",
    "        print(\"Train Accuracy:\", train_accuracy)\n",
    "        print(\"Test Accuracy:\", test_accuracy)\n",
    "                \n",
    "        return train_accuracy, test_accuracy, parameters"
   ]
  },
  {
   "cell_type": "markdown",
   "metadata": {},
   "source": [
    "Run the following cell to train your model for 100 epochs. Check if your cost after epoch 0 and 5 matches our output. If not, stop the cell and go back to your code!"
   ]
  },
  {
   "cell_type": "code",
   "execution_count": 16,
   "metadata": {},
   "outputs": [
    {
     "output_type": "stream",
     "name": "stdout",
     "text": [
      "Cost after epoch 0: 1.921332\n",
      "Cost after epoch 5: 1.904156\n",
      "Cost after epoch 10: 1.904309\n",
      "Cost after epoch 15: 1.904477\n",
      "Cost after epoch 20: 1.901876\n",
      "Cost after epoch 25: 1.784077\n",
      "Cost after epoch 30: 1.681052\n",
      "Cost after epoch 35: 1.618207\n",
      "Cost after epoch 40: 1.597972\n",
      "Cost after epoch 45: 1.566707\n",
      "Cost after epoch 50: 1.554486\n",
      "Cost after epoch 55: 1.502187\n"
     ]
    }
   ],
   "source": [
    "_, _, parameters = model(X_train, Y_train, X_test, Y_test)"
   ]
  },
  {
   "cell_type": "markdown",
   "metadata": {},
   "source": [
    "**Expected output**: although it may not match perfectly, your expected output should be close to ours and your cost value should decrease.\n",
    "\n",
    "<table> \n",
    "<tr>\n",
    "    <td> \n",
    "    **Cost after epoch 0 =**\n",
    "    </td>\n",
    "\n",
    "    <td> \n",
    "      1.917929\n",
    "    </td> \n",
    "</tr>\n",
    "<tr>\n",
    "    <td> \n",
    "    **Cost after epoch 5 =**\n",
    "    </td>\n",
    "\n",
    "    <td> \n",
    "      1.506757\n",
    "    </td> \n",
    "</tr>\n",
    "<tr>\n",
    "    <td> \n",
    "    **Train Accuracy   =**\n",
    "    </td>\n",
    "\n",
    "    <td> \n",
    "      0.940741\n",
    "    </td> \n",
    "</tr> \n",
    "\n",
    "<tr>\n",
    "    <td> \n",
    "    **Test Accuracy   =**\n",
    "    </td>\n",
    "\n",
    "    <td> \n",
    "      0.783333\n",
    "    </td> \n",
    "</tr> \n",
    "</table>"
   ]
  },
  {
   "cell_type": "markdown",
   "metadata": {},
   "source": [
    "Congratulations! You have finised the assignment and built a model that recognizes SIGN language with almost 80% accuracy on the test set. If you wish, feel free to play around with this dataset further. You can actually improve its accuracy by spending more time tuning the hyperparameters, or using regularization (as this model clearly has a high variance). \n",
    "\n",
    "Once again, here's a thumbs up for your work! "
   ]
  },
  {
   "cell_type": "code",
   "execution_count": 25,
   "metadata": {},
   "outputs": [
    {
     "data": {
      "text/plain": [
       "<matplotlib.image.AxesImage at 0x7fdf6121c278>"
      ]
     },
     "execution_count": 25,
     "metadata": {},
     "output_type": "execute_result"
    },
    {
     "data": {
      "image/png": "[encoded data removed]",
      "text/plain": [
       "<matplotlib.figure.Figure at 0x7fdf9709f240>"
      ]
     },
     "metadata": {},
     "output_type": "display_data"
    }
   ],
   "source": [
    "fname = \"images/thumbs_up.jpg\"\n",
    "image = np.array(ndimage.imread(fname, flatten=False))\n",
    "my_image = scipy.misc.imresize(image, size=(64,64))\n",
    "plt.imshow(my_image)"
   ]
  },
  {
   "cell_type": "code",
   "execution_count": 26,
   "metadata": {},
   "outputs": [
    {
     "name": "stdout",
     "output_type": "stream",
     "text": [
      "Convolution model - Application - v1-Copy1.ipynb\n",
      "Convolution model - Application - v1.ipynb\n",
      "Convolution model - Step by Step - v1.ipynb\n",
      "Convolution model - Step by Step - v2-Copy1.ipynb\n",
      "Convolution model - Step by Step - v2.ipynb\n",
      "__pycache__/\n",
      "__pycache__/cnn_utils.cpython-36.pyc\n",
      "cnn_utils.py\n",
      "datasets/\n",
      "datasets/train_signs.h5\n",
      "datasets/test_signs.h5\n",
      "images/\n",
      "images/PAD.png\n",
      "images/model.png\n",
      "images/conv_nn.png\n",
      "images/Convolution_schematic.gif\n",
      "images/vert_horiz_kiank.png\n",
      "images/conv_kiank.mp4\n",
      "images/max_pool.png\n",
      "images/conv1.png\n",
      "images/ave-pool.png\n",
      "images/thumbs_up.jpg\n",
      "images/ave_pool1.png\n",
      "images/conv.png\n",
      "images/a_pool.png\n",
      "images/max_pool1.png\n",
      "images/SIGNS.png\n",
      "images/average_pool.png\n"
     ]
    }
   ],
   "source": [
    "!tar cvfz notebook.tar.gz *"
   ]
  },
  {
   "cell_type": "code",
   "execution_count": null,
   "metadata": {
    "collapsed": true
   },
   "outputs": [],
   "source": []
  }
 ],
 "metadata": {
  "coursera": {
   "course_slug": "convolutional-neural-networks",
   "graded_item_id": "bwbJV",
   "launcher_item_id": "0TkXB"
  },
  "kernelspec": {
   "name": "python37664bit47788935e29d44bcbd1c34020a14197a",
   "display_name": "Python 3.7.6 64-bit"
  },
  "language_info": {
   "codemirror_mode": {
    "name": "ipython",
    "version": 3
   },
   "file_extension": ".py",
   "mimetype": "text/x-python",
   "name": "python",
   "nbconvert_exporter": "python",
   "pygments_lexer": "ipython3",
   "version": "3.7.6"
  },
  "metadata": {
   "interpreter": {
    "hash": "669c57335d814790a0a8ea20dc08c100929a5b6e7176d5937f3f567eb2cddf61"
   }
  }
 },
 "nbformat": 4,
 "nbformat_minor": 1
}